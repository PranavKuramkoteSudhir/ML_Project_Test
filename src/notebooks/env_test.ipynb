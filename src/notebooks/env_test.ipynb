{
 "cells": [
  {
   "cell_type": "code",
   "execution_count": 15,
   "metadata": {},
   "outputs": [
    {
     "name": "stdout",
     "output_type": "stream",
     "text": [
      "length of text:  144015\n",
      "['\\n', ' ', '!', '(', ')', '*', ',', '-', '.', ':', ';', '?', 'A', 'B', 'C', 'D', 'E', 'F', 'G', 'H', 'I', 'J', 'K', 'L', 'M', 'N', 'O', 'P', 'Q', 'R', 'S', 'T', 'U', 'V', 'W', 'X', 'Y', 'Z', '[', ']', '_', 'a', 'b', 'c', 'd', 'e', 'f', 'g', 'h', 'i', 'j', 'k', 'l', 'm', 'n', 'o', 'p', 'q', 'r', 's', 't', 'u', 'v', 'w', 'x', 'y', 'z', 'ù', '—', '‘', '’', '“', '”']\n",
      "Charecter length:  73\n"
     ]
    }
   ],
   "source": [
    "with open('/Users/pranavks/Desktop/projects/ML_Project_Test/src/artifacts/alice_wonder_land.txt','r',encoding='utf-8') as txt:\n",
    "    text=txt.read()\n",
    "print('length of text: ',(len(text)))\n",
    "ch=sorted(set(text))\n",
    "print(ch) \n",
    "print('Charecter length: ',len(ch))"
   ]
  },
  {
   "cell_type": "code",
   "execution_count": 16,
   "metadata": {},
   "outputs": [
    {
     "name": "stdout",
     "output_type": "stream",
     "text": [
      "[48, 45, 52, 52, 55]\n",
      "hello\n"
     ]
    }
   ],
   "source": [
    "#explore data and prelimnary encoding\n",
    "charToNum={}\n",
    "numToChar={}\n",
    "for i,c in enumerate(ch):\n",
    "    charToNum[c]=i\n",
    "    numToChar[i]=c\n",
    "def encode(string_):\n",
    "    numList=[]\n",
    "    for s in string_:\n",
    "        numList.append(charToNum[s])\n",
    "    return numList\n",
    "def decode(numList):\n",
    "    string_=''\n",
    "    for num in numList:\n",
    "        string_+=(numToChar[num])\n",
    "    return string_\n",
    "\n",
    "print(encode('hello'))\n",
    "print(decode([48, 45, 52, 52, 55]))"
   ]
  },
  {
   "cell_type": "code",
   "execution_count": 17,
   "metadata": {},
   "outputs": [],
   "source": [
    "import torch"
   ]
  },
  {
   "cell_type": "code",
   "execution_count": 19,
   "metadata": {},
   "outputs": [
    {
     "name": "stdout",
     "output_type": "stream",
     "text": [
      "tensor([14, 19, 12, 27, 31, 16, 29,  1, 20,  8,  0, 15, 55, 63, 54,  1, 60, 48,\n",
      "        45,  1, 29, 41, 42, 42, 49, 60,  7, 19, 55, 52, 45,  0,  0,  0, 12, 52,\n",
      "        49, 43, 45,  1, 63, 41, 59,  1, 42, 45, 47, 49, 54, 54, 49, 54, 47,  1,\n",
      "        60, 55,  1, 47, 45, 60,  1, 62, 45, 58, 65,  1, 60, 49, 58, 45, 44,  1,\n",
      "        55, 46,  1, 59, 49, 60, 60, 49, 54, 47,  1, 42, 65,  1, 48, 45, 58,  1,\n",
      "        59, 49, 59, 60, 45, 58,  1, 55, 54,  1])\n"
     ]
    }
   ],
   "source": [
    "data=torch.tensor(encode(text),dtype=torch.long)\n",
    "print(data[:100])"
   ]
  },
  {
   "cell_type": "code",
   "execution_count": 20,
   "metadata": {},
   "outputs": [
    {
     "name": "stdout",
     "output_type": "stream",
     "text": [
      "cuda\n"
     ]
    }
   ],
   "source": [
    "device = 'cuda' if torch.cuda.is_available else 'cpu'\n",
    "print(device)"
   ]
  }
 ],
 "metadata": {
  "kernelspec": {
   "display_name": "myenv",
   "language": "python",
   "name": "python3"
  },
  "language_info": {
   "codemirror_mode": {
    "name": "ipython",
    "version": 3
   },
   "file_extension": ".py",
   "mimetype": "text/x-python",
   "name": "python",
   "nbconvert_exporter": "python",
   "pygments_lexer": "ipython3",
   "version": "3.12.2"
  }
 },
 "nbformat": 4,
 "nbformat_minor": 2
}
